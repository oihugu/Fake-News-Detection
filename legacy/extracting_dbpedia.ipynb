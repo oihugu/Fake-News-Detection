{
  "nbformat": 4,
  "nbformat_minor": 0,
  "metadata": {
    "colab": {
      "name": "creating cypher script.ipynb",
      "provenance": [],
      "collapsed_sections": []
    },
    "kernelspec": {
      "name": "python3",
      "display_name": "Python 3"
    }
  },
  "cells": [
    {
      "cell_type": "markdown",
      "metadata": {
        "id": "KysspCF10ZKa"
      },
      "source": [
        "## Requisitos\n",
        "\n",
        "Bibliotecas não usuais para se executar esse notebook"
      ]
    },
    {
      "cell_type": "code",
      "metadata": {
        "id": "HtTkeFeM0iF4"
      },
      "source": [
        "!pip install rdflib"
      ],
      "execution_count": null,
      "outputs": []
    },
    {
      "cell_type": "markdown",
      "metadata": {
        "id": "-KxOc_xFzMMO"
      },
      "source": [
        "## Inputs\n",
        "\n",
        "Precisamos que o usuário insira esses dados"
      ]
    },
    {
      "cell_type": "code",
      "metadata": {
        "id": "0m-3N2oOzK5w"
      },
      "source": [
        "steps = 2 #quantidade máxima de nós que serão percorridos em profundidade\n",
        "start = 'http://pt.dbpedia.org/resource/Tecido_mole' #string que indica qual será a primeira página acessada\n",
        "stop = 'http://pt.dbpedia.org/resource/Laço_(teoria_dos_grafos)' #string que indica qual será a página alvo"
      ],
      "execution_count": null,
      "outputs": []
    },
    {
      "cell_type": "markdown",
      "metadata": {
        "id": "iYP0t6gpww3a"
      },
      "source": [
        "## Extraindo os Dados\n",
        "\n",
        "Nesse projeto trabalharemos com dados da [DBPedia em português](http://pt.dbpedia.org/), portanto o primeiro passo após o input do usuário é retirar os dados da nossa fonte, que vem em formato de RDF (NTriples)"
      ]
    },
    {
      "cell_type": "code",
      "metadata": {
        "id": "bKfyz3I6PuCE"
      },
      "source": [
        "import requests as r\n",
        "import rdflib\n",
        "import sys\n",
        "from unicodedata import category\n",
        "import urllib\n",
        "\n",
        "\n",
        "#Lista de pontuações existentes\n",
        "punctuation =  [chr(i) for i in range(sys.maxunicode) if category(chr(i)).startswith(\"P\") or category(chr(i)).startswith(\"S\")] + [' '] \n",
        "numeros_por_extenso = {1:'um', 2:'dois', 3:'três', 4:'quatro', 5:'cinco', 6:'seis', 7:'sete', 8:'oito', 9:'nove', 0:'zero'}"
      ],
      "execution_count": null,
      "outputs": []
    },
    {
      "cell_type": "code",
      "metadata": {
        "id": "F0KlSzvgwDtS"
      },
      "source": [
        "triple = rdflib.Graph()\n",
        "raw_start = start.split('/')[-1]\n",
        "triple.load(f'http://pt.dbpedia.org/resource/{urllib.parse.quote_plus(raw_start)}') #Suporte para caracteres brasileiros como ç"
      ],
      "execution_count": null,
      "outputs": []
    },
    {
      "cell_type": "code",
      "metadata": {
        "id": "VoK1ktOPsm6Q"
      },
      "source": [
        "#Função para deixar o link da wikipedia de um jeito que possa ser lido pelo Neo4J\n",
        "\n",
        "def object_treatment(objeto, replace):\n",
        "  #Criando um nome menor para os atributos, já que quase todos são urls fazer um split por \"/\" nos faz pegar o nome da página\n",
        "  raw_obj = objeto.split('/')[-1]\n",
        "\n",
        "  #Limitando o Tamanho dos Objetos para que seja possível construir o grafo\n",
        "  if len(raw_obj) > 40:\n",
        "    raw_obj = raw_obj[:40]\n",
        "      \n",
        "  if len(objeto) > 256:\n",
        "    objeto = objeto[:256]\n",
        "\n",
        "  #Se o atributo for um número\n",
        "  if any(char.isnumeric() for char in raw_obj):\n",
        "    for char in raw_obj:\n",
        "      if char.isnumeric():\n",
        "        raw_obj = raw_obj.replace(char, numeros_por_extenso[int(char)])\n",
        "\n",
        "  #Verificando se o nome e o objeto são válidos e atribuindo seu tipo, seja ele uma página ou atributo\n",
        "  if '' != objeto and '' != raw_obj:\n",
        "\n",
        "    #Excluindo caracres especiais do nome\n",
        "    if any([True if (a in raw_obj) else False for a in punctuation]):\n",
        "      for p in punctuation:\n",
        "        raw_obj = raw_obj.replace(p,replace)\n",
        "\n",
        "    #Observando se o texto está em alfabeto latino <- Tive muito problema com idiomas diferentes como birmanes e chines\n",
        "    try:\n",
        "      raw_obj.encode('iso-8859-1')\n",
        "      return raw_obj, 'Page' if ('http' in objeto or 'dbpedia' in objeto) else 'Atribute'\n",
        "    except:\n",
        "      return -1, -1\n",
        "\n",
        "  return -1 , -1\n",
        "  \n",
        "    "
      ],
      "execution_count": null,
      "outputs": []
    },
    {
      "cell_type": "code",
      "metadata": {
        "id": "ZniXzUpq1jkG"
      },
      "source": [
        "def busca_coneccoes(script, triple, ja_criados, coneccoes):\n",
        "\n",
        "  for sujeito, predicado, objeto in triple:\n",
        "\n",
        "    objeto = objeto.replace('\\'', '').replace('\\\"', '')\n",
        "    object_treated, tipo = object_treatment(objeto, '_')\n",
        "    \n",
        "    if object_treated == -1:\n",
        "      continue\n",
        "    \n",
        "    #Observando se já foi criado um nó com o mesmo nome para não existir duplicidade\n",
        "    if object_treated not in ja_criados.keys():    \n",
        "      ja_criados[object_treated] = objeto  \n",
        "\n",
        "      #Printando o Script de criação dos demais nós\n",
        "      script.write(\"CREATE (\")\n",
        "      script.write(f\"{object_treated.capitalize()}:{tipo} \")\n",
        "      script.write(\"{\")\n",
        "      script.write(f\"name:\\'{object_treated.capitalize()}\\',\")\n",
        "      script.write(f\"url:\\'{objeto}\\'\" if tipo == 'Page' else f\"info:\\'{objeto}\\'\")\n",
        "      script.write(\"})\\n\")\n",
        "\n",
        "      coneccoes.append([object_treatment(sujeito, '_')[0], object_treatment(predicado.split('/')[-1], '')[0], object_treated])\n",
        "  \n",
        "  return ja_criados, coneccoes"
      ],
      "execution_count": null,
      "outputs": []
    },
    {
      "cell_type": "code",
      "metadata": {
        "id": "cru0uv105ZfQ"
      },
      "source": [
        "def generate_dict(coneccoes, ja_processados, alvo):\n",
        "  conect_dict = {}\n",
        "  lista = []\n",
        "\n",
        "  for s, p, o in coneccoes:\n",
        "    if s == alvo:\n",
        "      lista.append(o)\n",
        "  \n",
        "  conect_dict[alvo] = lista\n",
        "  ja_processados.append(alvo)\n",
        "\n",
        "  return conect_dict, ja_processados"
      ],
      "execution_count": null,
      "outputs": []
    },
    {
      "cell_type": "code",
      "metadata": {
        "id": "fA_RgCtgwrZk"
      },
      "source": [
        "triple = rdflib.Graph()\n",
        "triple.load(start)\n",
        "\n",
        "ja_criados = {}\n",
        "ja_processados = []\n",
        "coneccoes = []\n",
        "profundidade = 0\n",
        "\n",
        "script = open('script.cypher', 'w')\n",
        "\n",
        "#Printando o script de criação do primeiro nó\n",
        "script.write(\"CREATE (\")\n",
        "script.write(f\"{raw_start.capitalize()}:Page \")\n",
        "script.write(\"{\")\n",
        "script.write(f\"name:\\'{raw_start.capitalize()}\\', url:\\'{start}\\', start:\\'True\\'\")\n",
        "script.write(\"})\\n\")\n",
        "\n",
        "ja_criados[raw_start] = start\n",
        "\n",
        "ja_criados, coneccoes = busca_coneccoes(script, triple, ja_criados, coneccoes)\n",
        "\n",
        "while profundidade < steps:\n",
        "  for elem in ja_criados.copy().keys():\n",
        "    if elem not in ja_processados:\n",
        "      \n",
        "      conect_dict, ja_processados = generate_dict(coneccoes, ja_processados, elem)\n",
        "  \n",
        "      for obj in conect_dict.keys():\n",
        "        try:\n",
        "          print(elem, end = '->')\n",
        "          triple = rdflib.Graph()\n",
        "          triple.load(ja_criados[obj])\n",
        "          ja_criados, coneccoes = busca_coneccoes(script, triple, ja_criados, coneccoes)\n",
        "          print('OK')\n",
        "        except:\n",
        "          print('Não foi encontrado')\n",
        "          pass\n",
        "        \n",
        "\n",
        "  profundidade += 1\n",
        "\n",
        "if coneccoes != []:\n",
        "  script.write(\"CREATE \")\n",
        "  for n in range(0,len(coneccoes)):\n",
        "    \n",
        "    text = f\"({coneccoes[n][0]})-[:{coneccoes[n][1]}]->({coneccoes[n][2]})\"\n",
        "    text =  text + ',' if n != len(coneccoes) - 1 else text #Adiciona uma vírgula se não for o último elemento\n",
        "    script.write(text + '\\n')"
      ],
      "execution_count": null,
      "outputs": []
    },
    {
      "cell_type": "code",
      "metadata": {
        "id": "WBXBC4PF01P4"
      },
      "source": [
        ""
      ],
      "execution_count": null,
      "outputs": []
    },
    {
      "cell_type": "code",
      "metadata": {
        "id": "FjzqStcr2XGu"
      },
      "source": [
        ""
      ],
      "execution_count": null,
      "outputs": []
    },
    {
      "cell_type": "code",
      "metadata": {
        "id": "LdQhvgB03JVi"
      },
      "source": [
        ""
      ],
      "execution_count": null,
      "outputs": []
    },
    {
      "cell_type": "code",
      "metadata": {
        "id": "4f-ibuh_18Lh"
      },
      "source": [
        ""
      ],
      "execution_count": null,
      "outputs": []
    },
    {
      "cell_type": "code",
      "metadata": {
        "id": "BlrTVzO4D57h"
      },
      "source": [
        ""
      ],
      "execution_count": null,
      "outputs": []
    },
    {
      "cell_type": "code",
      "metadata": {
        "id": "It-Ec_eDGlru"
      },
      "source": [
        ""
      ],
      "execution_count": null,
      "outputs": []
    },
    {
      "cell_type": "code",
      "metadata": {
        "id": "Jd8MB7a7HQqZ"
      },
      "source": [
        ""
      ],
      "execution_count": null,
      "outputs": []
    },
    {
      "cell_type": "code",
      "metadata": {
        "id": "Q-zMALTDfRgc"
      },
      "source": [
        ""
      ],
      "execution_count": null,
      "outputs": []
    },
    {
      "cell_type": "code",
      "metadata": {
        "id": "1TPlcIGScQx6"
      },
      "source": [
        ""
      ],
      "execution_count": null,
      "outputs": []
    },
    {
      "cell_type": "code",
      "metadata": {
        "id": "LITczXm9kzYx"
      },
      "source": [
        ""
      ],
      "execution_count": null,
      "outputs": []
    }
  ]
}