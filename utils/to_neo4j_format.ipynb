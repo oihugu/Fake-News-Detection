{
 "cells": [
  {
   "cell_type": "code",
   "execution_count": 51,
   "source": [
    "import re\n",
    "from urllib.parse import unquote"
   ],
   "outputs": [],
   "metadata": {}
  },
  {
   "cell_type": "code",
   "execution_count": 9,
   "source": [
    "with open(\"../data/input/head_short_pt.ttl\", \"r\") as file:\n",
    "    with open(\"../data/input/copy_short_pt.ttl\", \"w\") as copy:\n",
    "        copy.write(file.read().replace(\"> <\", \"> ; <\").replace(\"> \\\"\",\"> ; \\\"\"))\n",
    "\n",
    "\n",
    "file.close()\n",
    "copy.close()"
   ],
   "outputs": [],
   "metadata": {}
  },
  {
   "cell_type": "code",
   "execution_count": 69,
   "source": [
    "def find_all_occourences(char,text):\n",
    "    return [m.start() for m in re.finditer(char, text)]\n",
    "\n",
    "def replace_link(line, prefixes):\n",
    "    link_ops = find_all_occourences(\"<\", line)\n",
    "    link_close = find_all_occourences(\">\", line)\n",
    "    quotes = find_all_occourences(\"\\\"\", line)\n",
    "\n",
    "    if link_ops == []:\n",
    "        return line\n",
    "    \n",
    "    for quote in range(0,len(quotes),2):\n",
    "        for ocurrence in range(len(link_ops)):\n",
    "            if link_ops[ocurrence] in range(quotes[quote], quotes[quote + 1] + 1):\n",
    "                del link_ops[ocurrence]\n",
    "                del link_close[ocurrence]\n",
    "\n",
    "\n",
    "    text = line[:link_ops[0]]\n",
    "    for i in range(len(link_ops)):\n",
    "        link = line[link_ops[i] + 1: link_close[i]]\n",
    "        slashes = find_all_occourences(\"/\", link)\n",
    "        base, page_name = link[:slashes[-1] + 1], unquote(link[slashes[-1] + 1::])\n",
    "        \n",
    "        if link[slashes[-2] + 1: :slashes[-1]] not in prefixes.keys():\n",
    "            prefixes[link[slashes[-2] + 1: :slashes[-1]]] = base\n",
    "\n",
    "        text += link[slashes[-2] + 1:slashes[-1]] + \":\" + page_name + \" ; \"\n",
    "\n",
    "    text += line[link_close[i] + 1:]\n",
    "    \n",
    "\n",
    "    return text, prefixes\n",
    "\n"
   ],
   "outputs": [],
   "metadata": {}
  },
  {
   "cell_type": "code",
   "execution_count": 70,
   "source": [
    "pref = {}\n",
    "\n",
    "with open(\"../data/input/head_short_pt.ttl\", \"r\") as file:\n",
    "    with open(\"../data/input/t_short_pt.ttl\", \"w\") as t:\n",
    "        for line in file.readlines():\n",
    "            text, pref = replace_link(line, pref)\n",
    "            t.write(text)\n",
    "text.close()\n",
    "t.close()"
   ],
   "outputs": [
    {
     "output_type": "error",
     "ename": "AttributeError",
     "evalue": "'str' object has no attribute 'close'",
     "traceback": [
      "\u001b[0;31m---------------------------------------------------------------------------\u001b[0m",
      "\u001b[0;31mAttributeError\u001b[0m                            Traceback (most recent call last)",
      "\u001b[0;32m<ipython-input-70-3c156c8e50d9>\u001b[0m in \u001b[0;36m<module>\u001b[0;34m\u001b[0m\n\u001b[1;32m      6\u001b[0m             \u001b[0mtext\u001b[0m\u001b[0;34m,\u001b[0m \u001b[0mpref\u001b[0m \u001b[0;34m=\u001b[0m \u001b[0mreplace_link\u001b[0m\u001b[0;34m(\u001b[0m\u001b[0mline\u001b[0m\u001b[0;34m,\u001b[0m \u001b[0mpref\u001b[0m\u001b[0;34m)\u001b[0m\u001b[0;34m\u001b[0m\u001b[0;34m\u001b[0m\u001b[0m\n\u001b[1;32m      7\u001b[0m             \u001b[0mt\u001b[0m\u001b[0;34m.\u001b[0m\u001b[0mwrite\u001b[0m\u001b[0;34m(\u001b[0m\u001b[0mtext\u001b[0m\u001b[0;34m)\u001b[0m\u001b[0;34m\u001b[0m\u001b[0;34m\u001b[0m\u001b[0m\n\u001b[0;32m----> 8\u001b[0;31m \u001b[0mtext\u001b[0m\u001b[0;34m.\u001b[0m\u001b[0mclose\u001b[0m\u001b[0;34m(\u001b[0m\u001b[0;34m)\u001b[0m\u001b[0;34m\u001b[0m\u001b[0;34m\u001b[0m\u001b[0m\n\u001b[0m\u001b[1;32m      9\u001b[0m \u001b[0mt\u001b[0m\u001b[0;34m.\u001b[0m\u001b[0mclose\u001b[0m\u001b[0;34m(\u001b[0m\u001b[0;34m)\u001b[0m\u001b[0;34m\u001b[0m\u001b[0;34m\u001b[0m\u001b[0m\n",
      "\u001b[0;31mAttributeError\u001b[0m: 'str' object has no attribute 'close'"
     ]
    }
   ],
   "metadata": {}
  },
  {
   "cell_type": "code",
   "execution_count": null,
   "source": [],
   "outputs": [],
   "metadata": {}
  },
  {
   "cell_type": "code",
   "execution_count": null,
   "source": [],
   "outputs": [],
   "metadata": {}
  },
  {
   "cell_type": "code",
   "execution_count": 65,
   "source": [
    "replace_link(line, {})[0]"
   ],
   "outputs": [
    {
     "output_type": "stream",
     "name": "stdout",
     "text": [
      "<\n",
      "[0]\n",
      "[]\n",
      "0\n",
      "list index out of range\n"
     ]
    },
    {
     "output_type": "error",
     "ename": "UnboundLocalError",
     "evalue": "local variable 'link' referenced before assignment",
     "traceback": [
      "\u001b[0;31m---------------------------------------------------------------------------\u001b[0m",
      "\u001b[0;31mUnboundLocalError\u001b[0m                         Traceback (most recent call last)",
      "\u001b[0;32m<ipython-input-65-6e422024f80c>\u001b[0m in \u001b[0;36m<module>\u001b[0;34m\u001b[0m\n\u001b[0;32m----> 1\u001b[0;31m \u001b[0mreplace_link\u001b[0m\u001b[0;34m(\u001b[0m\u001b[0mline\u001b[0m\u001b[0;34m,\u001b[0m \u001b[0;34m{\u001b[0m\u001b[0;34m}\u001b[0m\u001b[0;34m)\u001b[0m\u001b[0;34m[\u001b[0m\u001b[0;36m0\u001b[0m\u001b[0;34m]\u001b[0m\u001b[0;34m\u001b[0m\u001b[0;34m\u001b[0m\u001b[0m\n\u001b[0m",
      "\u001b[0;32m<ipython-input-63-e2fa4181b8a7>\u001b[0m in \u001b[0;36mreplace_link\u001b[0;34m(line, prefixes)\u001b[0m\n\u001b[1;32m     28\u001b[0m             \u001b[0mprint\u001b[0m\u001b[0;34m(\u001b[0m\u001b[0me\u001b[0m\u001b[0;34m)\u001b[0m\u001b[0;34m\u001b[0m\u001b[0;34m\u001b[0m\u001b[0m\n\u001b[1;32m     29\u001b[0m \u001b[0;34m\u001b[0m\u001b[0m\n\u001b[0;32m---> 30\u001b[0;31m         \u001b[0mslashes\u001b[0m \u001b[0;34m=\u001b[0m \u001b[0mfind_all_occourences\u001b[0m\u001b[0;34m(\u001b[0m\u001b[0;34m\"/\"\u001b[0m\u001b[0;34m,\u001b[0m \u001b[0mlink\u001b[0m\u001b[0;34m)\u001b[0m\u001b[0;34m\u001b[0m\u001b[0;34m\u001b[0m\u001b[0m\n\u001b[0m\u001b[1;32m     31\u001b[0m         \u001b[0mbase\u001b[0m\u001b[0;34m,\u001b[0m \u001b[0mpage_name\u001b[0m \u001b[0;34m=\u001b[0m \u001b[0mlink\u001b[0m\u001b[0;34m[\u001b[0m\u001b[0;34m:\u001b[0m\u001b[0mslashes\u001b[0m\u001b[0;34m[\u001b[0m\u001b[0;34m-\u001b[0m\u001b[0;36m1\u001b[0m\u001b[0;34m]\u001b[0m \u001b[0;34m+\u001b[0m \u001b[0;36m1\u001b[0m\u001b[0;34m]\u001b[0m\u001b[0;34m,\u001b[0m \u001b[0munquote\u001b[0m\u001b[0;34m(\u001b[0m\u001b[0mlink\u001b[0m\u001b[0;34m[\u001b[0m\u001b[0mslashes\u001b[0m\u001b[0;34m[\u001b[0m\u001b[0;34m-\u001b[0m\u001b[0;36m1\u001b[0m\u001b[0;34m]\u001b[0m \u001b[0;34m+\u001b[0m \u001b[0;36m1\u001b[0m\u001b[0;34m:\u001b[0m\u001b[0;34m:\u001b[0m\u001b[0;34m]\u001b[0m\u001b[0;34m)\u001b[0m\u001b[0;34m\u001b[0m\u001b[0;34m\u001b[0m\u001b[0m\n\u001b[1;32m     32\u001b[0m \u001b[0;34m\u001b[0m\u001b[0m\n",
      "\u001b[0;31mUnboundLocalError\u001b[0m: local variable 'link' referenced before assignment"
     ]
    }
   ],
   "metadata": {}
  },
  {
   "cell_type": "code",
   "execution_count": 2,
   "source": [
    "with open(\"../data/input/short_pt.ttl\", \"r\") as file:\n",
    "    with open(\"../data/input/head_short_pt.ttl\", \"w\") as head:\n",
    "        for line in range(50):\n",
    "            head.write(file.readline())\n",
    "    file.close()\n",
    "head.close()"
   ],
   "outputs": [],
   "metadata": {}
  },
  {
   "cell_type": "code",
   "execution_count": null,
   "source": [],
   "outputs": [],
   "metadata": {}
  }
 ],
 "metadata": {
  "interpreter": {
   "hash": "3afcb4adb8ab4b32de48d719fc12854d47c44f6cd1f27f02ae8b25fd02bb6889"
  },
  "kernelspec": {
   "name": "python3",
   "display_name": "Python 3.9.5 64-bit ('Selenium': conda)"
  },
  "language_info": {
   "codemirror_mode": {
    "name": "ipython",
    "version": 3
   },
   "file_extension": ".py",
   "mimetype": "text/x-python",
   "name": "python",
   "nbconvert_exporter": "python",
   "pygments_lexer": "ipython3",
   "version": "3.9.5"
  }
 },
 "nbformat": 4,
 "nbformat_minor": 2
}